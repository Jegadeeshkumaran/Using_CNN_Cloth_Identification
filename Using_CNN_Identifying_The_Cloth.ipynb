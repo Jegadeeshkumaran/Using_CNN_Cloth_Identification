{
 "cells": [
  {
   "cell_type": "code",
   "execution_count": 1,
   "id": "6245fa3d",
   "metadata": {},
   "outputs": [],
   "source": [
    "from keras.datasets import fashion_mnist\n",
    "import matplotlib.pyplot as plt\n",
    "from keras.utils import to_categorical"
   ]
  },
  {
   "cell_type": "code",
   "execution_count": 2,
   "id": "1f19ba40",
   "metadata": {},
   "outputs": [
    {
     "name": "stdout",
     "output_type": "stream",
     "text": [
      "Downloading data from https://storage.googleapis.com/tensorflow/tf-keras-datasets/train-labels-idx1-ubyte.gz\n",
      "29515/29515 [==============================] - 0s 1us/step\n",
      "Downloading data from https://storage.googleapis.com/tensorflow/tf-keras-datasets/train-images-idx3-ubyte.gz\n",
      "26421880/26421880 [==============================] - 11s 0us/step\n",
      "Downloading data from https://storage.googleapis.com/tensorflow/tf-keras-datasets/t10k-labels-idx1-ubyte.gz\n",
      "5148/5148 [==============================] - 0s 0s/step\n",
      "Downloading data from https://storage.googleapis.com/tensorflow/tf-keras-datasets/t10k-images-idx3-ubyte.gz\n",
      "4422102/4422102 [==============================] - 2s 0us/step\n"
     ]
    }
   ],
   "source": [
    "(x_train,y_train),(x_test,y_test)= fashion_mnist.load_data()"
   ]
  },
  {
   "cell_type": "code",
   "execution_count": 3,
   "id": "e1e53958",
   "metadata": {},
   "outputs": [
    {
     "data": {
      "text/plain": [
       "(60000, 28, 28)"
      ]
     },
     "execution_count": 3,
     "metadata": {},
     "output_type": "execute_result"
    }
   ],
   "source": [
    "x_train.shape"
   ]
  },
  {
   "cell_type": "code",
   "execution_count": 18,
   "id": "1ec5a47e",
   "metadata": {},
   "outputs": [],
   "source": [
    "x_train=x_train.reshape(-1,28,28,1,)\n",
    "x_test=x_test.reshape(-1,28,28,1)"
   ]
  },
  {
   "cell_type": "code",
   "execution_count": 19,
   "id": "2c033376",
   "metadata": {},
   "outputs": [],
   "source": [
    "x_train=x_train.astype(float)\n",
    "x_test=x_test.astype(float)"
   ]
  },
  {
   "cell_type": "code",
   "execution_count": 20,
   "id": "4138b4e0",
   "metadata": {},
   "outputs": [],
   "source": [
    "y_train_ohe= to_categorical(y_train)\n",
    "y_test_ohe= to_categorical(y_test)"
   ]
  },
  {
   "cell_type": "markdown",
   "id": "1e05d518",
   "metadata": {},
   "source": [
    "# Exploring The Images "
   ]
  },
  {
   "cell_type": "code",
   "execution_count": 33,
   "id": "69aa8989",
   "metadata": {},
   "outputs": [],
   "source": [
    "class_names=['T-shirt/top', 'Trouser', 'Pullover', 'Dress', 'Coat',\n",
    "               'Sandal', 'Shirt', 'Sneaker', 'Bag', 'Ankle boot']"
   ]
  },
  {
   "cell_type": "markdown",
   "id": "78bc5440",
   "metadata": {},
   "source": [
    "\"\"\"0='T-shirt/top', 1='Trouser', 2='Pullover', 3='Dress', 4='Coat', 5='Sandal', 6 ='Shirt', \n",
    "   7='Sneaker', 8='Bag', 9='Ankle boot'\"\"\""
   ]
  },
  {
   "cell_type": "code",
   "execution_count": 36,
   "id": "c012f580",
   "metadata": {},
   "outputs": [
    {
     "data": {
      "image/png": "[encoded data removed]",
      "text/plain": [
       "<Figure size 720x864 with 10 Axes>"
      ]
     },
     "metadata": {
      "needs_background": "light"
     },
     "output_type": "display_data"
    }
   ],
   "source": [
    "plt.figure(figsize=(10,12))\n",
    "for i in range(10):\n",
    "    plt.subplot(5,5,i+1)\n",
    "    plt.imshow(x_train[i], cmap=\"gray\")\n",
    "    plt.title(class_names[y_train[i]])\n",
    "plt.show()"
   ]
  },
  {
   "cell_type": "markdown",
   "id": "f35b95d6",
   "metadata": {},
   "source": [
    "# Building The Model"
   ]
  },
  {
   "cell_type": "code",
   "execution_count": 55,
   "id": "d4fab0b6",
   "metadata": {},
   "outputs": [],
   "source": [
    "from keras.models import Sequential\n",
    "from keras.layers import Conv2D,Dense,Activation,MaxPool2D,Flatten\n",
    "from keras import optimizers"
   ]
  },
  {
   "cell_type": "code",
   "execution_count": 49,
   "id": "323e66bd",
   "metadata": {},
   "outputs": [],
   "source": [
    "model=Sequential()\n",
    "\n",
    "model.add(Conv2D(filters=10,kernel_size=(3,3),strides=(1,1),padding=\"valid\"))\n",
    "model.add(Activation(\"relu\"))\n",
    "\n",
    "model.add(Conv2D(filters=5,kernel_size=(3,3),strides=(1,1),padding=\"valid\"))\n",
    "model.add(Activation(\"relu\"))\n",
    "model.add(MaxPool2D(pool_size=(3,3),strides=(1,1)))\n",
    "\n",
    "model.add(Flatten())\n",
    "\n",
    "model.add(Dense(50, activation=\"relu\"))\n",
    "model.add(Dense(10, activation=\"softmax\"))"
   ]
  },
  {
   "cell_type": "code",
   "execution_count": 59,
   "id": "b30487bf",
   "metadata": {},
   "outputs": [],
   "source": [
    "model.compile(optimizers.Adam(),loss=\"categorical_crossentropy\",metrics=[\"accuracy\"])"
   ]
  },
  {
   "cell_type": "code",
   "execution_count": 60,
   "id": "db6b30f2",
   "metadata": {},
   "outputs": [
    {
     "name": "stdout",
     "output_type": "stream",
     "text": [
      "Epoch 1/20\n",
      "12/12 [==============================] - 27s 2s/step - loss: 7.8870 - accuracy: 0.4398 - val_loss: 1.6472 - val_accuracy: 0.5470\n",
      "Epoch 2/20\n",
      "12/12 [==============================] - 29s 2s/step - loss: 1.2602 - accuracy: 0.5901 - val_loss: 0.9795 - val_accuracy: 0.6515\n",
      "Epoch 3/20\n",
      "12/12 [==============================] - 32s 3s/step - loss: 0.8596 - accuracy: 0.6943 - val_loss: 0.7973 - val_accuracy: 0.7132\n",
      "Epoch 4/20\n",
      "12/12 [==============================] - 31s 3s/step - loss: 0.7194 - accuracy: 0.7380 - val_loss: 0.6941 - val_accuracy: 0.7489\n",
      "Epoch 5/20\n",
      "12/12 [==============================] - 38s 3s/step - loss: 0.6305 - accuracy: 0.7729 - val_loss: 0.6333 - val_accuracy: 0.7767\n",
      "Epoch 6/20\n",
      "12/12 [==============================] - 37s 3s/step - loss: 0.5746 - accuracy: 0.7976 - val_loss: 0.5901 - val_accuracy: 0.7960\n",
      "Epoch 7/20\n",
      "12/12 [==============================] - 35s 3s/step - loss: 0.5348 - accuracy: 0.8102 - val_loss: 0.5630 - val_accuracy: 0.8042\n",
      "Epoch 8/20\n",
      "12/12 [==============================] - 38s 3s/step - loss: 0.5044 - accuracy: 0.8212 - val_loss: 0.5416 - val_accuracy: 0.8125\n",
      "Epoch 9/20\n",
      "12/12 [==============================] - 35s 3s/step - loss: 0.4799 - accuracy: 0.8291 - val_loss: 0.5250 - val_accuracy: 0.8161\n",
      "Epoch 10/20\n",
      "12/12 [==============================] - 36s 3s/step - loss: 0.4586 - accuracy: 0.8367 - val_loss: 0.5110 - val_accuracy: 0.8231\n",
      "Epoch 11/20\n",
      "12/12 [==============================] - 38s 3s/step - loss: 0.4399 - accuracy: 0.8430 - val_loss: 0.4992 - val_accuracy: 0.8252\n",
      "Epoch 12/20\n",
      "12/12 [==============================] - 37s 3s/step - loss: 0.4248 - accuracy: 0.8475 - val_loss: 0.4912 - val_accuracy: 0.8288\n",
      "Epoch 13/20\n",
      "12/12 [==============================] - 37s 3s/step - loss: 0.4109 - accuracy: 0.8525 - val_loss: 0.4830 - val_accuracy: 0.8342\n",
      "Epoch 14/20\n",
      "12/12 [==============================] - 39s 3s/step - loss: 0.3999 - accuracy: 0.8557 - val_loss: 0.4771 - val_accuracy: 0.8354\n",
      "Epoch 15/20\n",
      "12/12 [==============================] - 37s 3s/step - loss: 0.3886 - accuracy: 0.8589 - val_loss: 0.4715 - val_accuracy: 0.8385\n",
      "Epoch 16/20\n",
      "12/12 [==============================] - 39s 3s/step - loss: 0.3784 - accuracy: 0.8629 - val_loss: 0.4683 - val_accuracy: 0.8393\n",
      "Epoch 17/20\n",
      "12/12 [==============================] - 35s 3s/step - loss: 0.3684 - accuracy: 0.8665 - val_loss: 0.4645 - val_accuracy: 0.8409\n",
      "Epoch 18/20\n",
      "12/12 [==============================] - 37s 3s/step - loss: 0.3593 - accuracy: 0.8691 - val_loss: 0.4610 - val_accuracy: 0.8417\n",
      "Epoch 19/20\n",
      "12/12 [==============================] - 35s 3s/step - loss: 0.3513 - accuracy: 0.8723 - val_loss: 0.4574 - val_accuracy: 0.8434\n",
      "Epoch 20/20\n",
      "12/12 [==============================] - 34s 3s/step - loss: 0.3428 - accuracy: 0.8755 - val_loss: 0.4538 - val_accuracy: 0.8449\n"
     ]
    },
    {
     "data": {
      "text/plain": [
       "<keras.callbacks.History at 0x20b006166a0>"
      ]
     },
     "execution_count": 60,
     "metadata": {},
     "output_type": "execute_result"
    }
   ],
   "source": [
    "model.fit(x=x_train,y=y_train_ohe,batch_size=5000,validation_data=(x_test,y_test_ohe),epochs=20)"
   ]
  },
  {
   "cell_type": "code",
   "execution_count": 61,
   "id": "89ae9cc2",
   "metadata": {},
   "outputs": [
    {
     "name": "stderr",
     "output_type": "stream",
     "text": [
      "<ipython-input-61-7684ecbb551a>:3: UserWarning: Legend does not support 'V' instances.\n",
      "A proxy artist may be used instead.\n",
      "See: https://matplotlib.org/users/legend_guide.html#creating-artists-specifically-for-adding-to-the-legend-aka-proxy-artists\n",
      "  plt.legend(\"Validation-Accuracy\",\"Training-Accuracy\")\n",
      "<ipython-input-61-7684ecbb551a>:3: UserWarning: Legend does not support 'a' instances.\n",
      "A proxy artist may be used instead.\n",
      "See: https://matplotlib.org/users/legend_guide.html#creating-artists-specifically-for-adding-to-the-legend-aka-proxy-artists\n",
      "  plt.legend(\"Validation-Accuracy\",\"Training-Accuracy\")\n",
      "<ipython-input-61-7684ecbb551a>:3: UserWarning: Legend does not support 'l' instances.\n",
      "A proxy artist may be used instead.\n",
      "See: https://matplotlib.org/users/legend_guide.html#creating-artists-specifically-for-adding-to-the-legend-aka-proxy-artists\n",
      "  plt.legend(\"Validation-Accuracy\",\"Training-Accuracy\")\n",
      "<ipython-input-61-7684ecbb551a>:3: UserWarning: Legend does not support 'i' instances.\n",
      "A proxy artist may be used instead.\n",
      "See: https://matplotlib.org/users/legend_guide.html#creating-artists-specifically-for-adding-to-the-legend-aka-proxy-artists\n",
      "  plt.legend(\"Validation-Accuracy\",\"Training-Accuracy\")\n",
      "<ipython-input-61-7684ecbb551a>:3: UserWarning: Legend does not support 'd' instances.\n",
      "A proxy artist may be used instead.\n",
      "See: https://matplotlib.org/users/legend_guide.html#creating-artists-specifically-for-adding-to-the-legend-aka-proxy-artists\n",
      "  plt.legend(\"Validation-Accuracy\",\"Training-Accuracy\")\n",
      "<ipython-input-61-7684ecbb551a>:3: UserWarning: Legend does not support 't' instances.\n",
      "A proxy artist may be used instead.\n",
      "See: https://matplotlib.org/users/legend_guide.html#creating-artists-specifically-for-adding-to-the-legend-aka-proxy-artists\n",
      "  plt.legend(\"Validation-Accuracy\",\"Training-Accuracy\")\n",
      "<ipython-input-61-7684ecbb551a>:3: UserWarning: Legend does not support 'o' instances.\n",
      "A proxy artist may be used instead.\n",
      "See: https://matplotlib.org/users/legend_guide.html#creating-artists-specifically-for-adding-to-the-legend-aka-proxy-artists\n",
      "  plt.legend(\"Validation-Accuracy\",\"Training-Accuracy\")\n",
      "<ipython-input-61-7684ecbb551a>:3: UserWarning: Legend does not support 'n' instances.\n",
      "A proxy artist may be used instead.\n",
      "See: https://matplotlib.org/users/legend_guide.html#creating-artists-specifically-for-adding-to-the-legend-aka-proxy-artists\n",
      "  plt.legend(\"Validation-Accuracy\",\"Training-Accuracy\")\n",
      "<ipython-input-61-7684ecbb551a>:3: UserWarning: Legend does not support '-' instances.\n",
      "A proxy artist may be used instead.\n",
      "See: https://matplotlib.org/users/legend_guide.html#creating-artists-specifically-for-adding-to-the-legend-aka-proxy-artists\n",
      "  plt.legend(\"Validation-Accuracy\",\"Training-Accuracy\")\n",
      "<ipython-input-61-7684ecbb551a>:3: UserWarning: Legend does not support 'A' instances.\n",
      "A proxy artist may be used instead.\n",
      "See: https://matplotlib.org/users/legend_guide.html#creating-artists-specifically-for-adding-to-the-legend-aka-proxy-artists\n",
      "  plt.legend(\"Validation-Accuracy\",\"Training-Accuracy\")\n",
      "<ipython-input-61-7684ecbb551a>:3: UserWarning: Legend does not support 'c' instances.\n",
      "A proxy artist may be used instead.\n",
      "See: https://matplotlib.org/users/legend_guide.html#creating-artists-specifically-for-adding-to-the-legend-aka-proxy-artists\n",
      "  plt.legend(\"Validation-Accuracy\",\"Training-Accuracy\")\n",
      "<ipython-input-61-7684ecbb551a>:3: UserWarning: Legend does not support 'u' instances.\n",
      "A proxy artist may be used instead.\n",
      "See: https://matplotlib.org/users/legend_guide.html#creating-artists-specifically-for-adding-to-the-legend-aka-proxy-artists\n",
      "  plt.legend(\"Validation-Accuracy\",\"Training-Accuracy\")\n",
      "<ipython-input-61-7684ecbb551a>:3: UserWarning: Legend does not support 'r' instances.\n",
      "A proxy artist may be used instead.\n",
      "See: https://matplotlib.org/users/legend_guide.html#creating-artists-specifically-for-adding-to-the-legend-aka-proxy-artists\n",
      "  plt.legend(\"Validation-Accuracy\",\"Training-Accuracy\")\n"
     ]
    },
    {
     "data": {
      "image/png": "[encoded data removed]",
      "text/plain": [
       "<Figure size 432x288 with 1 Axes>"
      ]
     },
     "metadata": {
      "needs_background": "light"
     },
     "output_type": "display_data"
    }
   ],
   "source": [
    "plt.plot(model.history.history[\"val_accuracy\"])\n",
    "plt.plot(model.history.history[\"accuracy\"])\n",
    "plt.legend(\"Validation-Accuracy\",\"Training-Accuracy\")\n",
    "plt.title(\"Accuracy\")\n",
    "plt.xlabel(\"Epochs\")\n",
    "plt.ylabel(\"Accuracy\")\n",
    "plt.grid()\n",
    "plt.show()"
   ]
  },
  {
   "cell_type": "code",
   "execution_count": 62,
   "id": "01c873d5",
   "metadata": {},
   "outputs": [
    {
     "name": "stderr",
     "output_type": "stream",
     "text": [
      "<ipython-input-62-d9a488e98778>:3: UserWarning: The handle 'd' has a label of '_' which cannot be automatically added to the legend.\n",
      "  plt.legend(\"Validation_loss\",\"Test_Loss\")\n",
      "<ipython-input-62-d9a488e98778>:3: UserWarning: Legend does not support 'V' instances.\n",
      "A proxy artist may be used instead.\n",
      "See: https://matplotlib.org/users/legend_guide.html#creating-artists-specifically-for-adding-to-the-legend-aka-proxy-artists\n",
      "  plt.legend(\"Validation_loss\",\"Test_Loss\")\n",
      "<ipython-input-62-d9a488e98778>:3: UserWarning: Legend does not support 'a' instances.\n",
      "A proxy artist may be used instead.\n",
      "See: https://matplotlib.org/users/legend_guide.html#creating-artists-specifically-for-adding-to-the-legend-aka-proxy-artists\n",
      "  plt.legend(\"Validation_loss\",\"Test_Loss\")\n",
      "<ipython-input-62-d9a488e98778>:3: UserWarning: Legend does not support 'l' instances.\n",
      "A proxy artist may be used instead.\n",
      "See: https://matplotlib.org/users/legend_guide.html#creating-artists-specifically-for-adding-to-the-legend-aka-proxy-artists\n",
      "  plt.legend(\"Validation_loss\",\"Test_Loss\")\n",
      "<ipython-input-62-d9a488e98778>:3: UserWarning: Legend does not support 'i' instances.\n",
      "A proxy artist may be used instead.\n",
      "See: https://matplotlib.org/users/legend_guide.html#creating-artists-specifically-for-adding-to-the-legend-aka-proxy-artists\n",
      "  plt.legend(\"Validation_loss\",\"Test_Loss\")\n",
      "<ipython-input-62-d9a488e98778>:3: UserWarning: Legend does not support 't' instances.\n",
      "A proxy artist may be used instead.\n",
      "See: https://matplotlib.org/users/legend_guide.html#creating-artists-specifically-for-adding-to-the-legend-aka-proxy-artists\n",
      "  plt.legend(\"Validation_loss\",\"Test_Loss\")\n",
      "<ipython-input-62-d9a488e98778>:3: UserWarning: Legend does not support 'o' instances.\n",
      "A proxy artist may be used instead.\n",
      "See: https://matplotlib.org/users/legend_guide.html#creating-artists-specifically-for-adding-to-the-legend-aka-proxy-artists\n",
      "  plt.legend(\"Validation_loss\",\"Test_Loss\")\n"
     ]
    },
    {
     "data": {
      "image/png": "[encoded data removed]",
      "text/plain": [
       "<Figure size 432x288 with 1 Axes>"
      ]
     },
     "metadata": {
      "needs_background": "light"
     },
     "output_type": "display_data"
    }
   ],
   "source": [
    "plt.plot(model.history.history[\"val_loss\"])\n",
    "plt.plot(model.history.history[\"loss\"])\n",
    "plt.legend(\"Validation_loss\",\"Test_Loss\")\n",
    "plt.title(\"Loss\")\n",
    "plt.xlabel(\"Epochs\")\n",
    "plt.ylabel(\"Loss\")\n",
    "plt.grid()\n",
    "plt.show()"
   ]
  },
  {
   "cell_type": "markdown",
   "id": "056d4305",
   "metadata": {},
   "source": [
    "# Prediction"
   ]
  },
  {
   "cell_type": "code",
   "execution_count": 71,
   "id": "fc13c307",
   "metadata": {},
   "outputs": [],
   "source": [
    "import numpy as np"
   ]
  },
  {
   "cell_type": "code",
   "execution_count": 78,
   "id": "a8d46251",
   "metadata": {},
   "outputs": [
    {
     "name": "stdout",
     "output_type": "stream",
     "text": [
      "1/1 [==============================] - 0s 30ms/step\n"
     ]
    }
   ],
   "source": [
    "pred=model.predict(x_test[502].reshape(-1,28,28,1))"
   ]
  },
  {
   "cell_type": "code",
   "execution_count": 79,
   "id": "ef0e4211",
   "metadata": {},
   "outputs": [
    {
     "data": {
      "text/plain": [
       "array([[4.0031572e-12, 8.2113475e-19, 3.7717455e-12, 2.2640659e-15,\n",
       "        2.4931100e-19, 9.9945921e-01, 2.2156479e-14, 4.8972917e-05,\n",
       "        2.9611387e-04, 1.9567824e-04]], dtype=float32)"
      ]
     },
     "execution_count": 79,
     "metadata": {},
     "output_type": "execute_result"
    }
   ],
   "source": [
    "pred"
   ]
  },
  {
   "cell_type": "code",
   "execution_count": 80,
   "id": "b7cd6726",
   "metadata": {},
   "outputs": [
    {
     "data": {
      "text/plain": [
       "'Sandal'"
      ]
     },
     "execution_count": 80,
     "metadata": {},
     "output_type": "execute_result"
    }
   ],
   "source": [
    "class_names[np.argmax(pred)]"
   ]
  },
  {
   "cell_type": "code",
   "execution_count": 82,
   "id": "6124e402",
   "metadata": {},
   "outputs": [
    {
     "data": {
      "text/plain": [
       "<matplotlib.image.AxesImage at 0x20b0096c850>"
      ]
     },
     "execution_count": 82,
     "metadata": {},
     "output_type": "execute_result"
    },
    {
     "data": {
      "image/png": "[encoded data removed]",
      "text/plain": [
       "<Figure size 432x288 with 1 Axes>"
      ]
     },
     "metadata": {
      "needs_background": "light"
     },
     "output_type": "display_data"
    }
   ],
   "source": [
    "plt.imshow(x_test[502],cmap='gray')"
   ]
  },
  {
   "cell_type": "code",
   "execution_count": null,
   "id": "192f636d",
   "metadata": {},
   "outputs": [],
   "source": [
    "plt.figure(figsize=(10,12))\n",
    "for i in range(10,20):\n",
    "    plt.subplot(5,5,i+1)\n",
    "    plt.imshow(x_train[i], cmap=\"gray\")\n",
    "    plt.title(class_names[y_train[i]])\n",
    "plt.show()"
   ]
  }
 ],
 "metadata": {
  "kernelspec": {
   "display_name": "Python 3",
   "language": "python",
   "name": "python3"
  },
  "language_info": {
   "codemirror_mode": {
    "name": "ipython",
    "version": 3
   },
   "file_extension": ".py",
   "mimetype": "text/x-python",
   "name": "python",
   "nbconvert_exporter": "python",
   "pygments_lexer": "ipython3",
   "version": "3.8.8"
  }
 },
 "nbformat": 4,
 "nbformat_minor": 5
}
